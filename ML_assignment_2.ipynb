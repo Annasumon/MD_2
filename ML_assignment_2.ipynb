{
  "cells": [
    {
      "metadata": {
        "collapsed": true
      },
      "cell_type": "markdown",
      "source": "# 機械学習・データ分析(2019)  課題2\n\n### このnotebookには、いくつかの設問が記載されています。\n### 先頭から順番に、指示に従ってPython Codeをcellに記述してください。\n### codeを記述するcellは、各自適切に生成してください。\n\n## 課題提出方法\n### 各自のGitHubに、学籍番号_MD2（たとえば、C180001_MD2）という名称のrepositoryを作成してください。\n### このnotebookを各自のGitHubのリポジトリ（学籍番号_MD2)へコピーしてください。\n### このnotebookに記載されたcodeがデータファイルを参照している場合、そのデータファイルも必ずGitHubのRepositoryへコピーしてください。\n### 各自のGitHubのリポジトリをoffice 365のメールアカウントを使用して、sugimura@ccg.ac.jpへ送信してください。メールの件名は、学籍番号_MD2としてください。\n### 【重要】指定された方法で課題を提出することも課題に含まれています。\n"
    },
    {
      "metadata": {},
      "cell_type": "markdown",
      "source": "## 【設問1】\n### 次の2つの配列を縦（行方向）および横（列方向）に結合してください。\n#### モジュールNumpyを利用するので、numpyをimportしましょう。\n"
    },
    {
      "metadata": {
        "trusted": true
      },
      "cell_type": "code",
      "source": "import numpy as np\n\nsample_array1 = np.array([[1, 2, 3],[4, 5, 6]])\nsample_array2 = np.array([[7, 8, 9],[10, 11, 12]])\nprint(sample_array1)\nprint(sample_array2)\n",
      "execution_count": 2,
      "outputs": [
        {
          "output_type": "stream",
          "text": "[[1 2 3]\n [4 5 6]]\n[[ 7  8  9]\n [10 11 12]]\n",
          "name": "stdout"
        }
      ]
    },
    {
      "metadata": {
        "trusted": true
      },
      "cell_type": "code",
      "source": "c = np.concatenate((sample_array1,sample_array2 ), axis = 1)\nprint(c)",
      "execution_count": 4,
      "outputs": [
        {
          "output_type": "stream",
          "text": "[[ 1  2  3  7  8  9]\n [ 4  5  6 10 11 12]]\n",
          "name": "stdout"
        }
      ]
    },
    {
      "metadata": {
        "trusted": true
      },
      "cell_type": "code",
      "source": "\n np.r_[sample_array1,sample_array2]",
      "execution_count": 20,
      "outputs": [
        {
          "output_type": "execute_result",
          "execution_count": 20,
          "data": {
            "text/plain": "array([[ 1,  2,  3],\n       [ 4,  5,  6],\n       [ 7,  8,  9],\n       [10, 11, 12]])"
          },
          "metadata": {}
        }
      ]
    },
    {
      "metadata": {},
      "cell_type": "markdown",
      "source": "## 【設問2】\n\n### Numpyのユニバーサル関数は、すべての要素に同じ関数を適用する機能です。\n#### たとえば、上のsample_array1のすべての要素の平方根を求める演算は、次のように記述します。"
    },
    {
      "metadata": {
        "trusted": true
      },
      "cell_type": "code",
      "source": "np.sqrt(sample_array1)",
      "execution_count": 5,
      "outputs": [
        {
          "output_type": "execute_result",
          "execution_count": 5,
          "data": {
            "text/plain": "array([[1.        , 1.41421356, 1.73205081],\n       [2.        , 2.23606798, 2.44948974]])"
          },
          "metadata": {}
        }
      ]
    },
    {
      "metadata": {},
      "cell_type": "markdown",
      "source": "### Numpyのadd関数は要素の和を計算するユニバーサル関数です。\n#### sample_array1とsample_array2の各要素の和を計算するコードを記述してください。"
    },
    {
      "metadata": {},
      "cell_type": "markdown",
      "source": "## 【設問3】\n### Numpyのブロードキャストは、配列の大きさが異なっていても、自動的に要素をコピーして、演算の対象の大きさを揃える機能です。\n#### たとえば、以下の演算は、sample_array1のすべての要素に3を加えます。"
    },
    {
      "metadata": {
        "trusted": true
      },
      "cell_type": "code",
      "source": "import numpy as np\nsample_array1 = np.array([[1, 2, 3],[4, 5, 6]])\nsample_array1 + 3\n",
      "execution_count": 1,
      "outputs": [
        {
          "output_type": "execute_result",
          "execution_count": 1,
          "data": {
            "text/plain": "array([[4, 5, 6],\n       [7, 8, 9]])"
          },
          "metadata": {}
        }
      ]
    },
    {
      "metadata": {},
      "cell_type": "markdown",
      "source": "### 上の計算は、次の演算と同じです。"
    },
    {
      "metadata": {
        "trusted": true
      },
      "cell_type": "code",
      "source": "sample_array1 + np.array([[3, 3, 3], [3, 3, 3]])",
      "execution_count": 8,
      "outputs": [
        {
          "output_type": "execute_result",
          "execution_count": 8,
          "data": {
            "text/plain": "array([[4, 5, 6],\n       [7, 8, 9]])"
          },
          "metadata": {}
        }
      ]
    },
    {
      "metadata": {},
      "cell_type": "markdown",
      "source": "### sample_array1のすべての要素を10倍するコードを記述してください。"
    },
    {
      "metadata": {},
      "cell_type": "markdown",
      "source": "## 【準備】科学計算で用いられるScipyを使いましょう。\n### 補間計算\n#### xとして、linspaceを用いて、開始値0、終了値10、そして、項目が11個の等間隔数列を生成します。\n#### yの値をxのcos関数として生成します。\n#### x, yのグラフを描画します。\n#### データの間を線形補間して、グラフ上の点と点を結びます。"
    },
    {
      "metadata": {
        "trusted": true
      },
      "cell_type": "code",
      "source": "from matplotlib import pyplot as plt\n%matplotlib inline\n\nx = np.linspace(0, 10, num=11, endpoint=True)\ny = np.cos(-x**2/5.0)\nplt.plot(x, y, 'o')\nplt.grid(True)",
      "execution_count": 10,
      "outputs": [
        {
          "output_type": "display_data",
          "data": {
            "image/png": "[encoded data removed]",
            "text/plain": "<Figure size 432x288 with 1 Axes>"
          },
          "metadata": {
            "needs_background": "light"
          }
        }
      ]
    },
    {
      "metadata": {
        "trusted": true
      },
      "cell_type": "code",
      "source": "from scipy import interpolate\n# linear interpolation\nf = interpolate.interp1d(x, y, 'linear')\nplt.plot(x, f(x), '-')\nplt.grid(True)",
      "execution_count": 2,
      "outputs": [
        {
          "output_type": "error",
          "ename": "NameError",
          "evalue": "name 'x' is not defined",
          "traceback": [
            "\u001b[0;31m---------------------------------------------------------------------------\u001b[0m",
            "\u001b[0;31mNameError\u001b[0m                                 Traceback (most recent call last)",
            "\u001b[0;32m<ipython-input-2-3db80eade1fe>\u001b[0m in \u001b[0;36m<module>\u001b[0;34m\u001b[0m\n\u001b[1;32m      1\u001b[0m \u001b[0;32mfrom\u001b[0m \u001b[0mscipy\u001b[0m \u001b[0;32mimport\u001b[0m \u001b[0minterpolate\u001b[0m\u001b[0;34m\u001b[0m\u001b[0m\n\u001b[1;32m      2\u001b[0m \u001b[0;31m# linear interpolation\u001b[0m\u001b[0;34m\u001b[0m\u001b[0;34m\u001b[0m\u001b[0m\n\u001b[0;32m----> 3\u001b[0;31m \u001b[0mf\u001b[0m \u001b[0;34m=\u001b[0m \u001b[0minterpolate\u001b[0m\u001b[0;34m.\u001b[0m\u001b[0minterp1d\u001b[0m\u001b[0;34m(\u001b[0m\u001b[0mx\u001b[0m\u001b[0;34m,\u001b[0m \u001b[0my\u001b[0m\u001b[0;34m,\u001b[0m \u001b[0;34m'linear'\u001b[0m\u001b[0;34m)\u001b[0m\u001b[0;34m\u001b[0m\u001b[0m\n\u001b[0m\u001b[1;32m      4\u001b[0m \u001b[0mplt\u001b[0m\u001b[0;34m.\u001b[0m\u001b[0mplot\u001b[0m\u001b[0;34m(\u001b[0m\u001b[0mx\u001b[0m\u001b[0;34m,\u001b[0m \u001b[0mf\u001b[0m\u001b[0;34m(\u001b[0m\u001b[0mx\u001b[0m\u001b[0;34m)\u001b[0m\u001b[0;34m,\u001b[0m \u001b[0;34m'-'\u001b[0m\u001b[0;34m)\u001b[0m\u001b[0;34m\u001b[0m\u001b[0m\n\u001b[1;32m      5\u001b[0m \u001b[0mplt\u001b[0m\u001b[0;34m.\u001b[0m\u001b[0mgrid\u001b[0m\u001b[0;34m(\u001b[0m\u001b[0;32mTrue\u001b[0m\u001b[0;34m)\u001b[0m\u001b[0;34m\u001b[0m\u001b[0m\n",
            "\u001b[0;31mNameError\u001b[0m: name 'x' is not defined"
          ]
        }
      ]
    },
    {
      "metadata": {},
      "cell_type": "markdown",
      "source": "## 【設問4】\n### 以下のデータに対して、線形補間を行って、グラフを描画してください。"
    },
    {
      "metadata": {
        "trusted": true
      },
      "cell_type": "code",
      "source": "x = np.linspace(0, 10, num=11, endpoint=True)\ny = np.sin(x**2/5.0)\nplt.plot(x, y, 'o')\nplt.grid(True)",
      "execution_count": 11,
      "outputs": [
        {
          "output_type": "display_data",
          "data": {
            "image/png": "[encoded data removed]",
            "text/plain": "<Figure size 432x288 with 1 Axes>"
          },
          "metadata": {
            "needs_background": "light"
          }
        }
      ]
    },
    {
      "metadata": {},
      "cell_type": "markdown",
      "source": "## 【準備】さまざまなデータを加工処理することができるPandasを使いましょう。\n### ライブラリのインポート"
    },
    {
      "metadata": {
        "trusted": true
      },
      "cell_type": "code",
      "source": "import pandas as pd\nfrom pandas import Series, DataFrame",
      "execution_count": 4,
      "outputs": []
    },
    {
      "metadata": {},
      "cell_type": "markdown",
      "source": "### Seriesは、1次元の配列のようなオブジェクトです。Pandasでは、Numpyのarrayをベースとしています。"
    },
    {
      "metadata": {
        "trusted": true
      },
      "cell_type": "code",
      "source": "sample_series = pd.Series([0, 10, 20, 30, 40, 50, 60, 70, 80, 90])\nprint(sample_series)",
      "execution_count": 9,
      "outputs": [
        {
          "output_type": "stream",
          "text": "0     0\n1    10\n2    20\n3    30\n4    40\n5    50\n6    60\n7    70\n8    80\n9    90\ndtype: int64\n",
          "name": "stdout"
        }
      ]
    },
    {
      "metadata": {},
      "cell_type": "markdown",
      "source": "### Seriesの要素は、インデックスと値からなります。dtypeは、データの型を表しています。\n### インデックス(index)は、要素を特定するためのkeyです。\n### Seriesのインデックスの値とデータの値は、index propertyとvalues propertyを使って指定することができます。"
    },
    {
      "metadata": {
        "trusted": true
      },
      "cell_type": "code",
      "source": "sample_index_data = pd.Series([0, 10, 20, 30, 40, 50, 60, 70, 80, 90],\n                             index=('a', 'b', 'c','d', 'e', 'f', 'g', 'h', 'i', 'j'))\nsample_index_data",
      "execution_count": 10,
      "outputs": [
        {
          "output_type": "execute_result",
          "execution_count": 10,
          "data": {
            "text/plain": "a     0\nb    10\nc    20\nd    30\ne    40\nf    50\ng    60\nh    70\ni    80\nj    90\ndtype: int64"
          },
          "metadata": {}
        }
      ]
    },
    {
      "metadata": {
        "trusted": true
      },
      "cell_type": "code",
      "source": "sample_index_data.values",
      "execution_count": 20,
      "outputs": [
        {
          "output_type": "execute_result",
          "execution_count": 20,
          "data": {
            "text/plain": "array([ 0, 10, 20, 30, 40, 50, 60, 70, 80, 90])"
          },
          "metadata": {}
        }
      ]
    },
    {
      "metadata": {
        "trusted": true
      },
      "cell_type": "code",
      "source": "sample_index_data.index",
      "execution_count": 21,
      "outputs": [
        {
          "output_type": "execute_result",
          "execution_count": 21,
          "data": {
            "text/plain": "Index(['a', 'b', 'c', 'd', 'e', 'f', 'g', 'h', 'i', 'j'], dtype='object')"
          },
          "metadata": {}
        }
      ]
    },
    {
      "metadata": {},
      "cell_type": "markdown",
      "source": "### DataFrameのオブジェクトは、2次元の配列です。列ごとに異なるデータの型を持つことができます。\n### ID、City、Birth_year、Nameという4つの属性(attribute)を持つDataFrameオブジェクトを生成します。属性は、表形式データの列(column)に相当します。"
    },
    {
      "metadata": {
        "trusted": true
      },
      "cell_type": "code",
      "source": "attr1 = {'ID':['100', '102', '104', '106', '108'],\n         'City':['Tokyo', 'Osaka', 'Kyoto', 'Hokkaido', 'Tokyo'],\n         'Birth_year':[1990, 1989, 1992, 1997, 1982],\n         'Name':['Hiroshi', 'Akiko', 'Yuki', 'Satoru', 'Steeve']}\n\nattr1_dataframe1 = DataFrame(attr1)\nattr1_dataframe1         ",
      "execution_count": 5,
      "outputs": [
        {
          "output_type": "execute_result",
          "execution_count": 5,
          "data": {
            "text/html": "<div>\n<style scoped>\n    .dataframe tbody tr th:only-of-type {\n        vertical-align: middle;\n    }\n\n    .dataframe tbody tr th {\n        vertical-align: top;\n    }\n\n    .dataframe thead th {\n        text-align: right;\n    }\n</style>\n<table border=\"1\" class=\"dataframe\">\n  <thead>\n    <tr style=\"text-align: right;\">\n      <th></th>\n      <th>ID</th>\n      <th>City</th>\n      <th>Birth_year</th>\n      <th>Name</th>\n    </tr>\n  </thead>\n  <tbody>\n    <tr>\n      <th>0</th>\n      <td>100</td>\n      <td>Tokyo</td>\n      <td>1990</td>\n      <td>Hiroshi</td>\n    </tr>\n    <tr>\n      <th>1</th>\n      <td>102</td>\n      <td>Osaka</td>\n      <td>1989</td>\n      <td>Akiko</td>\n    </tr>\n    <tr>\n      <th>2</th>\n      <td>104</td>\n      <td>Kyoto</td>\n      <td>1992</td>\n      <td>Yuki</td>\n    </tr>\n    <tr>\n      <th>3</th>\n      <td>106</td>\n      <td>Hokkaido</td>\n      <td>1997</td>\n      <td>Satoru</td>\n    </tr>\n    <tr>\n      <th>4</th>\n      <td>108</td>\n      <td>Tokyo</td>\n      <td>1982</td>\n      <td>Steeve</td>\n    </tr>\n  </tbody>\n</table>\n</div>",
            "text/plain": "    ID      City  Birth_year     Name\n0  100     Tokyo        1990  Hiroshi\n1  102     Osaka        1989    Akiko\n2  104     Kyoto        1992     Yuki\n3  106  Hokkaido        1997   Satoru\n4  108     Tokyo        1982   Steeve"
          },
          "metadata": {}
        }
      ]
    },
    {
      "metadata": {},
      "cell_type": "markdown",
      "source": "## 【設問5】\n### Series型データにインデックスとして文字列'a', 'b'.....を指定したように、attr1の値に対して、新しいインデックスを指定したDataFrame型オブジェクトを作成してください。インデックスは、順番に'a', 'b', 'c', 'd', 'e'としてください。"
    },
    {
      "metadata": {},
      "cell_type": "markdown",
      "source": "## DataFrame型データに対する演算\n\n### DataFrame型データの行と列を入れ替えるTメソッド"
    },
    {
      "metadata": {
        "trusted": true
      },
      "cell_type": "code",
      "source": "attr1_dataframe1.T",
      "execution_count": 6,
      "outputs": [
        {
          "output_type": "execute_result",
          "execution_count": 6,
          "data": {
            "text/html": "<div>\n<style scoped>\n    .dataframe tbody tr th:only-of-type {\n        vertical-align: middle;\n    }\n\n    .dataframe tbody tr th {\n        vertical-align: top;\n    }\n\n    .dataframe thead th {\n        text-align: right;\n    }\n</style>\n<table border=\"1\" class=\"dataframe\">\n  <thead>\n    <tr style=\"text-align: right;\">\n      <th></th>\n      <th>0</th>\n      <th>1</th>\n      <th>2</th>\n      <th>3</th>\n      <th>4</th>\n    </tr>\n  </thead>\n  <tbody>\n    <tr>\n      <th>ID</th>\n      <td>100</td>\n      <td>102</td>\n      <td>104</td>\n      <td>106</td>\n      <td>108</td>\n    </tr>\n    <tr>\n      <th>City</th>\n      <td>Tokyo</td>\n      <td>Osaka</td>\n      <td>Kyoto</td>\n      <td>Hokkaido</td>\n      <td>Tokyo</td>\n    </tr>\n    <tr>\n      <th>Birth_year</th>\n      <td>1990</td>\n      <td>1989</td>\n      <td>1992</td>\n      <td>1997</td>\n      <td>1982</td>\n    </tr>\n    <tr>\n      <th>Name</th>\n      <td>Hiroshi</td>\n      <td>Akiko</td>\n      <td>Yuki</td>\n      <td>Satoru</td>\n      <td>Steeve</td>\n    </tr>\n  </tbody>\n</table>\n</div>",
            "text/plain": "                  0      1      2         3       4\nID              100    102    104       106     108\nCity          Tokyo  Osaka  Kyoto  Hokkaido   Tokyo\nBirth_year     1990   1989   1992      1997    1982\nName        Hiroshi  Akiko   Yuki    Satoru  Steeve"
          },
          "metadata": {}
        }
      ]
    },
    {
      "metadata": {},
      "cell_type": "markdown",
      "source": "### DataFrame型データの特定列を取り出す"
    },
    {
      "metadata": {
        "trusted": true
      },
      "cell_type": "code",
      "source": "attr1_dataframe1.Birth_year",
      "execution_count": 11,
      "outputs": [
        {
          "output_type": "execute_result",
          "execution_count": 11,
          "data": {
            "text/plain": "0    1990\n1    1989\n2    1992\n3    1997\n4    1982\nName: Birth_year, dtype: int64"
          },
          "metadata": {}
        }
      ]
    },
    {
      "metadata": {},
      "cell_type": "markdown",
      "source": "### DataFrame型データの複数列を取り出す"
    },
    {
      "metadata": {
        "trusted": true
      },
      "cell_type": "code",
      "source": "attr1_dataframe1[['City', 'Name']]",
      "execution_count": 7,
      "outputs": [
        {
          "output_type": "execute_result",
          "execution_count": 7,
          "data": {
            "text/html": "<div>\n<style scoped>\n    .dataframe tbody tr th:only-of-type {\n        vertical-align: middle;\n    }\n\n    .dataframe tbody tr th {\n        vertical-align: top;\n    }\n\n    .dataframe thead th {\n        text-align: right;\n    }\n</style>\n<table border=\"1\" class=\"dataframe\">\n  <thead>\n    <tr style=\"text-align: right;\">\n      <th></th>\n      <th>City</th>\n      <th>Name</th>\n    </tr>\n  </thead>\n  <tbody>\n    <tr>\n      <th>0</th>\n      <td>Tokyo</td>\n      <td>Hiroshi</td>\n    </tr>\n    <tr>\n      <th>1</th>\n      <td>Osaka</td>\n      <td>Akiko</td>\n    </tr>\n    <tr>\n      <th>2</th>\n      <td>Kyoto</td>\n      <td>Yuki</td>\n    </tr>\n    <tr>\n      <th>3</th>\n      <td>Hokkaido</td>\n      <td>Satoru</td>\n    </tr>\n    <tr>\n      <th>4</th>\n      <td>Tokyo</td>\n      <td>Steeve</td>\n    </tr>\n  </tbody>\n</table>\n</div>",
            "text/plain": "       City     Name\n0     Tokyo  Hiroshi\n1     Osaka    Akiko\n2     Kyoto     Yuki\n3  Hokkaido   Satoru\n4     Tokyo   Steeve"
          },
          "metadata": {}
        }
      ]
    },
    {
      "metadata": {},
      "cell_type": "markdown",
      "source": "### DataFrameオブジェクトから特定の条件を満たすデータを取り出す\n#### CityがTokyoであるデータを抽出しよう。"
    },
    {
      "metadata": {
        "trusted": true
      },
      "cell_type": "code",
      "source": "attr1_dataframe1[attr1_dataframe1['City']=='Tokyo']",
      "execution_count": 12,
      "outputs": [
        {
          "output_type": "execute_result",
          "execution_count": 12,
          "data": {
            "text/html": "<div>\n<style scoped>\n    .dataframe tbody tr th:only-of-type {\n        vertical-align: middle;\n    }\n\n    .dataframe tbody tr th {\n        vertical-align: top;\n    }\n\n    .dataframe thead th {\n        text-align: right;\n    }\n</style>\n<table border=\"1\" class=\"dataframe\">\n  <thead>\n    <tr style=\"text-align: right;\">\n      <th></th>\n      <th>ID</th>\n      <th>City</th>\n      <th>Birth_year</th>\n      <th>Name</th>\n    </tr>\n  </thead>\n  <tbody>\n    <tr>\n      <th>0</th>\n      <td>100</td>\n      <td>Tokyo</td>\n      <td>1990</td>\n      <td>Hiroshi</td>\n    </tr>\n    <tr>\n      <th>4</th>\n      <td>108</td>\n      <td>Tokyo</td>\n      <td>1982</td>\n      <td>Steeve</td>\n    </tr>\n  </tbody>\n</table>\n</div>",
            "text/plain": "    ID   City  Birth_year     Name\n0  100  Tokyo        1990  Hiroshi\n4  108  Tokyo        1982   Steeve"
          },
          "metadata": {}
        }
      ]
    },
    {
      "metadata": {},
      "cell_type": "markdown",
      "source": "### CityがTokyoまたはOsakaであるデータを抽出するには、isin(リスト）を使います。"
    },
    {
      "metadata": {
        "trusted": true
      },
      "cell_type": "code",
      "source": "attr1_dataframe1[attr1_dataframe1['City'].isin(['Tokyo', 'Osaka'])]",
      "execution_count": 8,
      "outputs": [
        {
          "output_type": "execute_result",
          "execution_count": 8,
          "data": {
            "text/html": "<div>\n<style scoped>\n    .dataframe tbody tr th:only-of-type {\n        vertical-align: middle;\n    }\n\n    .dataframe tbody tr th {\n        vertical-align: top;\n    }\n\n    .dataframe thead th {\n        text-align: right;\n    }\n</style>\n<table border=\"1\" class=\"dataframe\">\n  <thead>\n    <tr style=\"text-align: right;\">\n      <th></th>\n      <th>ID</th>\n      <th>City</th>\n      <th>Birth_year</th>\n      <th>Name</th>\n    </tr>\n  </thead>\n  <tbody>\n    <tr>\n      <th>0</th>\n      <td>100</td>\n      <td>Tokyo</td>\n      <td>1990</td>\n      <td>Hiroshi</td>\n    </tr>\n    <tr>\n      <th>1</th>\n      <td>102</td>\n      <td>Osaka</td>\n      <td>1989</td>\n      <td>Akiko</td>\n    </tr>\n    <tr>\n      <th>4</th>\n      <td>108</td>\n      <td>Tokyo</td>\n      <td>1982</td>\n      <td>Steeve</td>\n    </tr>\n  </tbody>\n</table>\n</div>",
            "text/plain": "    ID   City  Birth_year     Name\n0  100  Tokyo        1990  Hiroshi\n1  102  Osaka        1989    Akiko\n4  108  Tokyo        1982   Steeve"
          },
          "metadata": {}
        }
      ]
    },
    {
      "metadata": {},
      "cell_type": "markdown",
      "source": "## 【設問6】\n### DataFrameオブジェクトattr1_dataframeから、Birty_yearが1990未満であるデータを取り出してください。"
    },
    {
      "metadata": {
        "trusted": true
      },
      "cell_type": "code",
      "source": "attr1_dataframe1.Birth_year1990未満",
      "execution_count": 13,
      "outputs": [
        {
          "output_type": "error",
          "ename": "AttributeError",
          "evalue": "'DataFrame' object has no attribute 'Birth_year1990未満'",
          "traceback": [
            "\u001b[0;31m---------------------------------------------------------------------------\u001b[0m",
            "\u001b[0;31mAttributeError\u001b[0m                            Traceback (most recent call last)",
            "\u001b[0;32m<ipython-input-13-8287beacf137>\u001b[0m in \u001b[0;36m<module>\u001b[0;34m\u001b[0m\n\u001b[0;32m----> 1\u001b[0;31m \u001b[0mattr1_dataframe1\u001b[0m\u001b[0;34m.\u001b[0m\u001b[0mBirth_year1990未満\u001b[0m\u001b[0;34m\u001b[0m\u001b[0m\n\u001b[0m",
            "\u001b[0;32m~/anaconda3_501/lib/python3.6/site-packages/pandas/core/generic.py\u001b[0m in \u001b[0;36m__getattr__\u001b[0;34m(self, name)\u001b[0m\n\u001b[1;32m   4374\u001b[0m             \u001b[0;32mif\u001b[0m \u001b[0mself\u001b[0m\u001b[0;34m.\u001b[0m\u001b[0m_info_axis\u001b[0m\u001b[0;34m.\u001b[0m\u001b[0m_can_hold_identifiers_and_holds_name\u001b[0m\u001b[0;34m(\u001b[0m\u001b[0mname\u001b[0m\u001b[0;34m)\u001b[0m\u001b[0;34m:\u001b[0m\u001b[0;34m\u001b[0m\u001b[0m\n\u001b[1;32m   4375\u001b[0m                 \u001b[0;32mreturn\u001b[0m \u001b[0mself\u001b[0m\u001b[0;34m[\u001b[0m\u001b[0mname\u001b[0m\u001b[0;34m]\u001b[0m\u001b[0;34m\u001b[0m\u001b[0m\n\u001b[0;32m-> 4376\u001b[0;31m             \u001b[0;32mreturn\u001b[0m \u001b[0mobject\u001b[0m\u001b[0;34m.\u001b[0m\u001b[0m__getattribute__\u001b[0m\u001b[0;34m(\u001b[0m\u001b[0mself\u001b[0m\u001b[0;34m,\u001b[0m \u001b[0mname\u001b[0m\u001b[0;34m)\u001b[0m\u001b[0;34m\u001b[0m\u001b[0m\n\u001b[0m\u001b[1;32m   4377\u001b[0m \u001b[0;34m\u001b[0m\u001b[0m\n\u001b[1;32m   4378\u001b[0m     \u001b[0;32mdef\u001b[0m \u001b[0m__setattr__\u001b[0m\u001b[0;34m(\u001b[0m\u001b[0mself\u001b[0m\u001b[0;34m,\u001b[0m \u001b[0mname\u001b[0m\u001b[0;34m,\u001b[0m \u001b[0mvalue\u001b[0m\u001b[0;34m)\u001b[0m\u001b[0;34m:\u001b[0m\u001b[0;34m\u001b[0m\u001b[0m\n",
            "\u001b[0;31mAttributeError\u001b[0m: 'DataFrame' object has no attribute 'Birth_year1990未満'"
          ]
        }
      ]
    },
    {
      "metadata": {},
      "cell_type": "markdown",
      "source": "## 【設問7】\n### titanic.csvをDataFrame型データdf_titanic1に読み込んで下さい。\n"
    },
    {
      "metadata": {
        "trusted": true
      },
      "cell_type": "code",
      "source": "import pandas as pd\nimport numpy as np\n\ndf_titanic1 = pd.read_csv('titanic.csv')\ndf_titanic1",
      "execution_count": 31,
      "outputs": [
        {
          "output_type": "execute_result",
          "execution_count": 31,
          "data": {
            "text/html": "<div>\n<style scoped>\n    .dataframe tbody tr th:only-of-type {\n        vertical-align: middle;\n    }\n\n    .dataframe tbody tr th {\n        vertical-align: top;\n    }\n\n    .dataframe thead th {\n        text-align: right;\n    }\n</style>\n<table border=\"1\" class=\"dataframe\">\n  <thead>\n    <tr style=\"text-align: right;\">\n      <th></th>\n      <th>Unnamed: 0</th>\n      <th>PassengerId</th>\n      <th>Survived</th>\n      <th>Pclass</th>\n      <th>Name</th>\n      <th>Sex</th>\n      <th>Age</th>\n      <th>SibSp</th>\n      <th>Parch</th>\n      <th>Ticket</th>\n      <th>Fare</th>\n      <th>Cabin</th>\n      <th>Embarked</th>\n    </tr>\n  </thead>\n  <tbody>\n    <tr>\n      <th>0</th>\n      <td>0</td>\n      <td>1</td>\n      <td>0</td>\n      <td>3</td>\n      <td>Braund, Mr. Owen Harris</td>\n      <td>male</td>\n      <td>22.0</td>\n      <td>1</td>\n      <td>0</td>\n      <td>A/5 21171</td>\n      <td>7.2500</td>\n      <td>NaN</td>\n      <td>S</td>\n    </tr>\n    <tr>\n      <th>1</th>\n      <td>1</td>\n      <td>2</td>\n      <td>1</td>\n      <td>1</td>\n      <td>Cumings, Mrs. John Bradley (Florence Briggs Th...</td>\n      <td>female</td>\n      <td>38.0</td>\n      <td>1</td>\n      <td>0</td>\n      <td>PC 17599</td>\n      <td>71.2833</td>\n      <td>C85</td>\n      <td>C</td>\n    </tr>\n    <tr>\n      <th>2</th>\n      <td>2</td>\n      <td>3</td>\n      <td>1</td>\n      <td>3</td>\n      <td>Heikkinen, Miss. Laina</td>\n      <td>female</td>\n      <td>26.0</td>\n      <td>0</td>\n      <td>0</td>\n      <td>STON/O2. 3101282</td>\n      <td>7.9250</td>\n      <td>NaN</td>\n      <td>S</td>\n    </tr>\n    <tr>\n      <th>3</th>\n      <td>3</td>\n      <td>4</td>\n      <td>1</td>\n      <td>1</td>\n      <td>Futrelle, Mrs. Jacques Heath (Lily May Peel)</td>\n      <td>female</td>\n      <td>35.0</td>\n      <td>1</td>\n      <td>0</td>\n      <td>113803</td>\n      <td>53.1000</td>\n      <td>C123</td>\n      <td>S</td>\n    </tr>\n    <tr>\n      <th>4</th>\n      <td>4</td>\n      <td>5</td>\n      <td>0</td>\n      <td>3</td>\n      <td>Allen, Mr. William Henry</td>\n      <td>male</td>\n      <td>35.0</td>\n      <td>0</td>\n      <td>0</td>\n      <td>373450</td>\n      <td>8.0500</td>\n      <td>NaN</td>\n      <td>S</td>\n    </tr>\n    <tr>\n      <th>5</th>\n      <td>5</td>\n      <td>6</td>\n      <td>0</td>\n      <td>3</td>\n      <td>Moran, Mr. James</td>\n      <td>male</td>\n      <td>28.0</td>\n      <td>0</td>\n      <td>0</td>\n      <td>330877</td>\n      <td>8.4583</td>\n      <td>NaN</td>\n      <td>Q</td>\n    </tr>\n    <tr>\n      <th>6</th>\n      <td>6</td>\n      <td>7</td>\n      <td>0</td>\n      <td>1</td>\n      <td>McCarthy, Mr. Timothy J</td>\n      <td>male</td>\n      <td>54.0</td>\n      <td>0</td>\n      <td>0</td>\n      <td>17463</td>\n      <td>51.8625</td>\n      <td>E46</td>\n      <td>S</td>\n    </tr>\n    <tr>\n      <th>7</th>\n      <td>7</td>\n      <td>8</td>\n      <td>0</td>\n      <td>3</td>\n      <td>Palsson, Master. Gosta Leonard</td>\n      <td>male</td>\n      <td>2.0</td>\n      <td>3</td>\n      <td>1</td>\n      <td>349909</td>\n      <td>21.0750</td>\n      <td>NaN</td>\n      <td>S</td>\n    </tr>\n    <tr>\n      <th>8</th>\n      <td>8</td>\n      <td>9</td>\n      <td>1</td>\n      <td>3</td>\n      <td>Johnson, Mrs. Oscar W (Elisabeth Vilhelmina Berg)</td>\n      <td>female</td>\n      <td>27.0</td>\n      <td>0</td>\n      <td>2</td>\n      <td>347742</td>\n      <td>11.1333</td>\n      <td>NaN</td>\n      <td>S</td>\n    </tr>\n    <tr>\n      <th>9</th>\n      <td>9</td>\n      <td>10</td>\n      <td>1</td>\n      <td>2</td>\n      <td>Nasser, Mrs. Nicholas (Adele Achem)</td>\n      <td>female</td>\n      <td>14.0</td>\n      <td>1</td>\n      <td>0</td>\n      <td>237736</td>\n      <td>30.0708</td>\n      <td>NaN</td>\n      <td>C</td>\n    </tr>\n    <tr>\n      <th>10</th>\n      <td>10</td>\n      <td>11</td>\n      <td>1</td>\n      <td>3</td>\n      <td>Sandstrom, Miss. Marguerite Rut</td>\n      <td>female</td>\n      <td>4.0</td>\n      <td>1</td>\n      <td>1</td>\n      <td>PP 9549</td>\n      <td>16.7000</td>\n      <td>G6</td>\n      <td>S</td>\n    </tr>\n    <tr>\n      <th>11</th>\n      <td>11</td>\n      <td>12</td>\n      <td>1</td>\n      <td>1</td>\n      <td>Bonnell, Miss. Elizabeth</td>\n      <td>female</td>\n      <td>58.0</td>\n      <td>0</td>\n      <td>0</td>\n      <td>113783</td>\n      <td>26.5500</td>\n      <td>C103</td>\n      <td>S</td>\n    </tr>\n    <tr>\n      <th>12</th>\n      <td>12</td>\n      <td>13</td>\n      <td>0</td>\n      <td>3</td>\n      <td>Saundercock, Mr. William Henry</td>\n      <td>male</td>\n      <td>20.0</td>\n      <td>0</td>\n      <td>0</td>\n      <td>A/5. 2151</td>\n      <td>8.0500</td>\n      <td>NaN</td>\n      <td>S</td>\n    </tr>\n    <tr>\n      <th>13</th>\n      <td>13</td>\n      <td>14</td>\n      <td>0</td>\n      <td>3</td>\n      <td>Andersson, Mr. Anders Johan</td>\n      <td>male</td>\n      <td>39.0</td>\n      <td>1</td>\n      <td>5</td>\n      <td>347082</td>\n      <td>31.2750</td>\n      <td>NaN</td>\n      <td>S</td>\n    </tr>\n    <tr>\n      <th>14</th>\n      <td>14</td>\n      <td>15</td>\n      <td>0</td>\n      <td>3</td>\n      <td>Vestrom, Miss. Hulda Amanda Adolfina</td>\n      <td>female</td>\n      <td>14.0</td>\n      <td>0</td>\n      <td>0</td>\n      <td>350406</td>\n      <td>7.8542</td>\n      <td>NaN</td>\n      <td>S</td>\n    </tr>\n    <tr>\n      <th>15</th>\n      <td>15</td>\n      <td>16</td>\n      <td>1</td>\n      <td>2</td>\n      <td>Hewlett, Mrs. (Mary D Kingcome)</td>\n      <td>female</td>\n      <td>55.0</td>\n      <td>0</td>\n      <td>0</td>\n      <td>248706</td>\n      <td>16.0000</td>\n      <td>NaN</td>\n      <td>S</td>\n    </tr>\n    <tr>\n      <th>16</th>\n      <td>16</td>\n      <td>17</td>\n      <td>0</td>\n      <td>3</td>\n      <td>Rice, Master. Eugene</td>\n      <td>male</td>\n      <td>2.0</td>\n      <td>4</td>\n      <td>1</td>\n      <td>382652</td>\n      <td>29.1250</td>\n      <td>NaN</td>\n      <td>Q</td>\n    </tr>\n    <tr>\n      <th>17</th>\n      <td>17</td>\n      <td>18</td>\n      <td>1</td>\n      <td>2</td>\n      <td>Williams, Mr. Charles Eugene</td>\n      <td>male</td>\n      <td>28.0</td>\n      <td>0</td>\n      <td>0</td>\n      <td>244373</td>\n      <td>13.0000</td>\n      <td>NaN</td>\n      <td>S</td>\n    </tr>\n    <tr>\n      <th>18</th>\n      <td>18</td>\n      <td>19</td>\n      <td>0</td>\n      <td>3</td>\n      <td>Vander Planke, Mrs. Julius (Emelia Maria Vande...</td>\n      <td>female</td>\n      <td>31.0</td>\n      <td>1</td>\n      <td>0</td>\n      <td>345763</td>\n      <td>18.0000</td>\n      <td>NaN</td>\n      <td>S</td>\n    </tr>\n    <tr>\n      <th>19</th>\n      <td>19</td>\n      <td>20</td>\n      <td>1</td>\n      <td>3</td>\n      <td>Masselmani, Mrs. Fatima</td>\n      <td>female</td>\n      <td>28.0</td>\n      <td>0</td>\n      <td>0</td>\n      <td>2649</td>\n      <td>7.2250</td>\n      <td>NaN</td>\n      <td>C</td>\n    </tr>\n    <tr>\n      <th>20</th>\n      <td>20</td>\n      <td>21</td>\n      <td>0</td>\n      <td>2</td>\n      <td>Fynney, Mr. Joseph J</td>\n      <td>male</td>\n      <td>35.0</td>\n      <td>0</td>\n      <td>0</td>\n      <td>239865</td>\n      <td>26.0000</td>\n      <td>NaN</td>\n      <td>S</td>\n    </tr>\n    <tr>\n      <th>21</th>\n      <td>21</td>\n      <td>22</td>\n      <td>1</td>\n      <td>2</td>\n      <td>Beesley, Mr. Lawrence</td>\n      <td>male</td>\n      <td>34.0</td>\n      <td>0</td>\n      <td>0</td>\n      <td>248698</td>\n      <td>13.0000</td>\n      <td>D56</td>\n      <td>S</td>\n    </tr>\n    <tr>\n      <th>22</th>\n      <td>22</td>\n      <td>23</td>\n      <td>1</td>\n      <td>3</td>\n      <td>McGowan, Miss. Anna \"Annie\"</td>\n      <td>female</td>\n      <td>15.0</td>\n      <td>0</td>\n      <td>0</td>\n      <td>330923</td>\n      <td>8.0292</td>\n      <td>NaN</td>\n      <td>Q</td>\n    </tr>\n    <tr>\n      <th>23</th>\n      <td>23</td>\n      <td>24</td>\n      <td>1</td>\n      <td>1</td>\n      <td>Sloper, Mr. William Thompson</td>\n      <td>male</td>\n      <td>28.0</td>\n      <td>0</td>\n      <td>0</td>\n      <td>113788</td>\n      <td>35.5000</td>\n      <td>A6</td>\n      <td>S</td>\n    </tr>\n    <tr>\n      <th>24</th>\n      <td>24</td>\n      <td>25</td>\n      <td>0</td>\n      <td>3</td>\n      <td>Palsson, Miss. Torborg Danira</td>\n      <td>female</td>\n      <td>8.0</td>\n      <td>3</td>\n      <td>1</td>\n      <td>349909</td>\n      <td>21.0750</td>\n      <td>NaN</td>\n      <td>S</td>\n    </tr>\n    <tr>\n      <th>25</th>\n      <td>25</td>\n      <td>26</td>\n      <td>1</td>\n      <td>3</td>\n      <td>Asplund, Mrs. Carl Oscar (Selma Augusta Emilia...</td>\n      <td>female</td>\n      <td>38.0</td>\n      <td>1</td>\n      <td>5</td>\n      <td>347077</td>\n      <td>31.3875</td>\n      <td>NaN</td>\n      <td>S</td>\n    </tr>\n    <tr>\n      <th>26</th>\n      <td>26</td>\n      <td>27</td>\n      <td>0</td>\n      <td>3</td>\n      <td>Emir, Mr. Farred Chehab</td>\n      <td>male</td>\n      <td>28.0</td>\n      <td>0</td>\n      <td>0</td>\n      <td>2631</td>\n      <td>7.2250</td>\n      <td>NaN</td>\n      <td>C</td>\n    </tr>\n    <tr>\n      <th>27</th>\n      <td>27</td>\n      <td>28</td>\n      <td>0</td>\n      <td>1</td>\n      <td>Fortune, Mr. Charles Alexander</td>\n      <td>male</td>\n      <td>19.0</td>\n      <td>3</td>\n      <td>2</td>\n      <td>19950</td>\n      <td>263.0000</td>\n      <td>C23 C25 C27</td>\n      <td>S</td>\n    </tr>\n    <tr>\n      <th>28</th>\n      <td>28</td>\n      <td>29</td>\n      <td>1</td>\n      <td>3</td>\n      <td>O'Dwyer, Miss. Ellen \"Nellie\"</td>\n      <td>female</td>\n      <td>28.0</td>\n      <td>0</td>\n      <td>0</td>\n      <td>330959</td>\n      <td>7.8792</td>\n      <td>NaN</td>\n      <td>Q</td>\n    </tr>\n    <tr>\n      <th>29</th>\n      <td>29</td>\n      <td>30</td>\n      <td>0</td>\n      <td>3</td>\n      <td>Todoroff, Mr. Lalio</td>\n      <td>male</td>\n      <td>28.0</td>\n      <td>0</td>\n      <td>0</td>\n      <td>349216</td>\n      <td>7.8958</td>\n      <td>NaN</td>\n      <td>S</td>\n    </tr>\n    <tr>\n      <th>...</th>\n      <td>...</td>\n      <td>...</td>\n      <td>...</td>\n      <td>...</td>\n      <td>...</td>\n      <td>...</td>\n      <td>...</td>\n      <td>...</td>\n      <td>...</td>\n      <td>...</td>\n      <td>...</td>\n      <td>...</td>\n      <td>...</td>\n    </tr>\n    <tr>\n      <th>861</th>\n      <td>861</td>\n      <td>862</td>\n      <td>0</td>\n      <td>2</td>\n      <td>Giles, Mr. Frederick Edward</td>\n      <td>male</td>\n      <td>21.0</td>\n      <td>1</td>\n      <td>0</td>\n      <td>28134</td>\n      <td>11.5000</td>\n      <td>NaN</td>\n      <td>S</td>\n    </tr>\n    <tr>\n      <th>862</th>\n      <td>862</td>\n      <td>863</td>\n      <td>1</td>\n      <td>1</td>\n      <td>Swift, Mrs. Frederick Joel (Margaret Welles Ba...</td>\n      <td>female</td>\n      <td>48.0</td>\n      <td>0</td>\n      <td>0</td>\n      <td>17466</td>\n      <td>25.9292</td>\n      <td>D17</td>\n      <td>S</td>\n    </tr>\n    <tr>\n      <th>863</th>\n      <td>863</td>\n      <td>864</td>\n      <td>0</td>\n      <td>3</td>\n      <td>Sage, Miss. Dorothy Edith \"Dolly\"</td>\n      <td>female</td>\n      <td>28.0</td>\n      <td>8</td>\n      <td>2</td>\n      <td>CA. 2343</td>\n      <td>69.5500</td>\n      <td>NaN</td>\n      <td>S</td>\n    </tr>\n    <tr>\n      <th>864</th>\n      <td>864</td>\n      <td>865</td>\n      <td>0</td>\n      <td>2</td>\n      <td>Gill, Mr. John William</td>\n      <td>male</td>\n      <td>24.0</td>\n      <td>0</td>\n      <td>0</td>\n      <td>233866</td>\n      <td>13.0000</td>\n      <td>NaN</td>\n      <td>S</td>\n    </tr>\n    <tr>\n      <th>865</th>\n      <td>865</td>\n      <td>866</td>\n      <td>1</td>\n      <td>2</td>\n      <td>Bystrom, Mrs. (Karolina)</td>\n      <td>female</td>\n      <td>42.0</td>\n      <td>0</td>\n      <td>0</td>\n      <td>236852</td>\n      <td>13.0000</td>\n      <td>NaN</td>\n      <td>S</td>\n    </tr>\n    <tr>\n      <th>866</th>\n      <td>866</td>\n      <td>867</td>\n      <td>1</td>\n      <td>2</td>\n      <td>Duran y More, Miss. Asuncion</td>\n      <td>female</td>\n      <td>27.0</td>\n      <td>1</td>\n      <td>0</td>\n      <td>SC/PARIS 2149</td>\n      <td>13.8583</td>\n      <td>NaN</td>\n      <td>C</td>\n    </tr>\n    <tr>\n      <th>867</th>\n      <td>867</td>\n      <td>868</td>\n      <td>0</td>\n      <td>1</td>\n      <td>Roebling, Mr. Washington Augustus II</td>\n      <td>male</td>\n      <td>31.0</td>\n      <td>0</td>\n      <td>0</td>\n      <td>PC 17590</td>\n      <td>50.4958</td>\n      <td>A24</td>\n      <td>S</td>\n    </tr>\n    <tr>\n      <th>868</th>\n      <td>868</td>\n      <td>869</td>\n      <td>0</td>\n      <td>3</td>\n      <td>van Melkebeke, Mr. Philemon</td>\n      <td>male</td>\n      <td>28.0</td>\n      <td>0</td>\n      <td>0</td>\n      <td>345777</td>\n      <td>9.5000</td>\n      <td>NaN</td>\n      <td>S</td>\n    </tr>\n    <tr>\n      <th>869</th>\n      <td>869</td>\n      <td>870</td>\n      <td>1</td>\n      <td>3</td>\n      <td>Johnson, Master. Harold Theodor</td>\n      <td>male</td>\n      <td>4.0</td>\n      <td>1</td>\n      <td>1</td>\n      <td>347742</td>\n      <td>11.1333</td>\n      <td>NaN</td>\n      <td>S</td>\n    </tr>\n    <tr>\n      <th>870</th>\n      <td>870</td>\n      <td>871</td>\n      <td>0</td>\n      <td>3</td>\n      <td>Balkic, Mr. Cerin</td>\n      <td>male</td>\n      <td>26.0</td>\n      <td>0</td>\n      <td>0</td>\n      <td>349248</td>\n      <td>7.8958</td>\n      <td>NaN</td>\n      <td>S</td>\n    </tr>\n    <tr>\n      <th>871</th>\n      <td>871</td>\n      <td>872</td>\n      <td>1</td>\n      <td>1</td>\n      <td>Beckwith, Mrs. Richard Leonard (Sallie Monypeny)</td>\n      <td>female</td>\n      <td>47.0</td>\n      <td>1</td>\n      <td>1</td>\n      <td>11751</td>\n      <td>52.5542</td>\n      <td>D35</td>\n      <td>S</td>\n    </tr>\n    <tr>\n      <th>872</th>\n      <td>872</td>\n      <td>873</td>\n      <td>0</td>\n      <td>1</td>\n      <td>Carlsson, Mr. Frans Olof</td>\n      <td>male</td>\n      <td>33.0</td>\n      <td>0</td>\n      <td>0</td>\n      <td>695</td>\n      <td>5.0000</td>\n      <td>B51 B53 B55</td>\n      <td>S</td>\n    </tr>\n    <tr>\n      <th>873</th>\n      <td>873</td>\n      <td>874</td>\n      <td>0</td>\n      <td>3</td>\n      <td>Vander Cruyssen, Mr. Victor</td>\n      <td>male</td>\n      <td>47.0</td>\n      <td>0</td>\n      <td>0</td>\n      <td>345765</td>\n      <td>9.0000</td>\n      <td>NaN</td>\n      <td>S</td>\n    </tr>\n    <tr>\n      <th>874</th>\n      <td>874</td>\n      <td>875</td>\n      <td>1</td>\n      <td>2</td>\n      <td>Abelson, Mrs. Samuel (Hannah Wizosky)</td>\n      <td>female</td>\n      <td>28.0</td>\n      <td>1</td>\n      <td>0</td>\n      <td>P/PP 3381</td>\n      <td>24.0000</td>\n      <td>NaN</td>\n      <td>C</td>\n    </tr>\n    <tr>\n      <th>875</th>\n      <td>875</td>\n      <td>876</td>\n      <td>1</td>\n      <td>3</td>\n      <td>Najib, Miss. Adele Kiamie \"Jane\"</td>\n      <td>female</td>\n      <td>15.0</td>\n      <td>0</td>\n      <td>0</td>\n      <td>2667</td>\n      <td>7.2250</td>\n      <td>NaN</td>\n      <td>C</td>\n    </tr>\n    <tr>\n      <th>876</th>\n      <td>876</td>\n      <td>877</td>\n      <td>0</td>\n      <td>3</td>\n      <td>Gustafsson, Mr. Alfred Ossian</td>\n      <td>male</td>\n      <td>20.0</td>\n      <td>0</td>\n      <td>0</td>\n      <td>7534</td>\n      <td>9.8458</td>\n      <td>NaN</td>\n      <td>S</td>\n    </tr>\n    <tr>\n      <th>877</th>\n      <td>877</td>\n      <td>878</td>\n      <td>0</td>\n      <td>3</td>\n      <td>Petroff, Mr. Nedelio</td>\n      <td>male</td>\n      <td>19.0</td>\n      <td>0</td>\n      <td>0</td>\n      <td>349212</td>\n      <td>7.8958</td>\n      <td>NaN</td>\n      <td>S</td>\n    </tr>\n    <tr>\n      <th>878</th>\n      <td>878</td>\n      <td>879</td>\n      <td>0</td>\n      <td>3</td>\n      <td>Laleff, Mr. Kristo</td>\n      <td>male</td>\n      <td>28.0</td>\n      <td>0</td>\n      <td>0</td>\n      <td>349217</td>\n      <td>7.8958</td>\n      <td>NaN</td>\n      <td>S</td>\n    </tr>\n    <tr>\n      <th>879</th>\n      <td>879</td>\n      <td>880</td>\n      <td>1</td>\n      <td>1</td>\n      <td>Potter, Mrs. Thomas Jr (Lily Alexenia Wilson)</td>\n      <td>female</td>\n      <td>56.0</td>\n      <td>0</td>\n      <td>1</td>\n      <td>11767</td>\n      <td>83.1583</td>\n      <td>C50</td>\n      <td>C</td>\n    </tr>\n    <tr>\n      <th>880</th>\n      <td>880</td>\n      <td>881</td>\n      <td>1</td>\n      <td>2</td>\n      <td>Shelley, Mrs. William (Imanita Parrish Hall)</td>\n      <td>female</td>\n      <td>25.0</td>\n      <td>0</td>\n      <td>1</td>\n      <td>230433</td>\n      <td>26.0000</td>\n      <td>NaN</td>\n      <td>S</td>\n    </tr>\n    <tr>\n      <th>881</th>\n      <td>881</td>\n      <td>882</td>\n      <td>0</td>\n      <td>3</td>\n      <td>Markun, Mr. Johann</td>\n      <td>male</td>\n      <td>33.0</td>\n      <td>0</td>\n      <td>0</td>\n      <td>349257</td>\n      <td>7.8958</td>\n      <td>NaN</td>\n      <td>S</td>\n    </tr>\n    <tr>\n      <th>882</th>\n      <td>882</td>\n      <td>883</td>\n      <td>0</td>\n      <td>3</td>\n      <td>Dahlberg, Miss. Gerda Ulrika</td>\n      <td>female</td>\n      <td>22.0</td>\n      <td>0</td>\n      <td>0</td>\n      <td>7552</td>\n      <td>10.5167</td>\n      <td>NaN</td>\n      <td>S</td>\n    </tr>\n    <tr>\n      <th>883</th>\n      <td>883</td>\n      <td>884</td>\n      <td>0</td>\n      <td>2</td>\n      <td>Banfield, Mr. Frederick James</td>\n      <td>male</td>\n      <td>28.0</td>\n      <td>0</td>\n      <td>0</td>\n      <td>C.A./SOTON 34068</td>\n      <td>10.5000</td>\n      <td>NaN</td>\n      <td>S</td>\n    </tr>\n    <tr>\n      <th>884</th>\n      <td>884</td>\n      <td>885</td>\n      <td>0</td>\n      <td>3</td>\n      <td>Sutehall, Mr. Henry Jr</td>\n      <td>male</td>\n      <td>25.0</td>\n      <td>0</td>\n      <td>0</td>\n      <td>SOTON/OQ 392076</td>\n      <td>7.0500</td>\n      <td>NaN</td>\n      <td>S</td>\n    </tr>\n    <tr>\n      <th>885</th>\n      <td>885</td>\n      <td>886</td>\n      <td>0</td>\n      <td>3</td>\n      <td>Rice, Mrs. William (Margaret Norton)</td>\n      <td>female</td>\n      <td>39.0</td>\n      <td>0</td>\n      <td>5</td>\n      <td>382652</td>\n      <td>29.1250</td>\n      <td>NaN</td>\n      <td>Q</td>\n    </tr>\n    <tr>\n      <th>886</th>\n      <td>886</td>\n      <td>887</td>\n      <td>0</td>\n      <td>2</td>\n      <td>Montvila, Rev. Juozas</td>\n      <td>male</td>\n      <td>27.0</td>\n      <td>0</td>\n      <td>0</td>\n      <td>211536</td>\n      <td>13.0000</td>\n      <td>NaN</td>\n      <td>S</td>\n    </tr>\n    <tr>\n      <th>887</th>\n      <td>887</td>\n      <td>888</td>\n      <td>1</td>\n      <td>1</td>\n      <td>Graham, Miss. Margaret Edith</td>\n      <td>female</td>\n      <td>19.0</td>\n      <td>0</td>\n      <td>0</td>\n      <td>112053</td>\n      <td>30.0000</td>\n      <td>B42</td>\n      <td>S</td>\n    </tr>\n    <tr>\n      <th>888</th>\n      <td>888</td>\n      <td>889</td>\n      <td>0</td>\n      <td>3</td>\n      <td>Johnston, Miss. Catherine Helen \"Carrie\"</td>\n      <td>female</td>\n      <td>28.0</td>\n      <td>1</td>\n      <td>2</td>\n      <td>W./C. 6607</td>\n      <td>23.4500</td>\n      <td>NaN</td>\n      <td>S</td>\n    </tr>\n    <tr>\n      <th>889</th>\n      <td>889</td>\n      <td>890</td>\n      <td>1</td>\n      <td>1</td>\n      <td>Behr, Mr. Karl Howell</td>\n      <td>male</td>\n      <td>26.0</td>\n      <td>0</td>\n      <td>0</td>\n      <td>111369</td>\n      <td>30.0000</td>\n      <td>C148</td>\n      <td>C</td>\n    </tr>\n    <tr>\n      <th>890</th>\n      <td>890</td>\n      <td>891</td>\n      <td>0</td>\n      <td>3</td>\n      <td>Dooley, Mr. Patrick</td>\n      <td>male</td>\n      <td>32.0</td>\n      <td>0</td>\n      <td>0</td>\n      <td>370376</td>\n      <td>7.7500</td>\n      <td>NaN</td>\n      <td>Q</td>\n    </tr>\n  </tbody>\n</table>\n<p>891 rows × 13 columns</p>\n</div>",
            "text/plain": "     Unnamed: 0  PassengerId  Survived  Pclass  \\\n0             0            1         0       3   \n1             1            2         1       1   \n2             2            3         1       3   \n3             3            4         1       1   \n4             4            5         0       3   \n5             5            6         0       3   \n6             6            7         0       1   \n7             7            8         0       3   \n8             8            9         1       3   \n9             9           10         1       2   \n10           10           11         1       3   \n11           11           12         1       1   \n12           12           13         0       3   \n13           13           14         0       3   \n14           14           15         0       3   \n15           15           16         1       2   \n16           16           17         0       3   \n17           17           18         1       2   \n18           18           19         0       3   \n19           19           20         1       3   \n20           20           21         0       2   \n21           21           22         1       2   \n22           22           23         1       3   \n23           23           24         1       1   \n24           24           25         0       3   \n25           25           26         1       3   \n26           26           27         0       3   \n27           27           28         0       1   \n28           28           29         1       3   \n29           29           30         0       3   \n..          ...          ...       ...     ...   \n861         861          862         0       2   \n862         862          863         1       1   \n863         863          864         0       3   \n864         864          865         0       2   \n865         865          866         1       2   \n866         866          867         1       2   \n867         867          868         0       1   \n868         868          869         0       3   \n869         869          870         1       3   \n870         870          871         0       3   \n871         871          872         1       1   \n872         872          873         0       1   \n873         873          874         0       3   \n874         874          875         1       2   \n875         875          876         1       3   \n876         876          877         0       3   \n877         877          878         0       3   \n878         878          879         0       3   \n879         879          880         1       1   \n880         880          881         1       2   \n881         881          882         0       3   \n882         882          883         0       3   \n883         883          884         0       2   \n884         884          885         0       3   \n885         885          886         0       3   \n886         886          887         0       2   \n887         887          888         1       1   \n888         888          889         0       3   \n889         889          890         1       1   \n890         890          891         0       3   \n\n                                                  Name     Sex   Age  SibSp  \\\n0                              Braund, Mr. Owen Harris    male  22.0      1   \n1    Cumings, Mrs. John Bradley (Florence Briggs Th...  female  38.0      1   \n2                               Heikkinen, Miss. Laina  female  26.0      0   \n3         Futrelle, Mrs. Jacques Heath (Lily May Peel)  female  35.0      1   \n4                             Allen, Mr. William Henry    male  35.0      0   \n5                                     Moran, Mr. James    male  28.0      0   \n6                              McCarthy, Mr. Timothy J    male  54.0      0   \n7                       Palsson, Master. Gosta Leonard    male   2.0      3   \n8    Johnson, Mrs. Oscar W (Elisabeth Vilhelmina Berg)  female  27.0      0   \n9                  Nasser, Mrs. Nicholas (Adele Achem)  female  14.0      1   \n10                     Sandstrom, Miss. Marguerite Rut  female   4.0      1   \n11                            Bonnell, Miss. Elizabeth  female  58.0      0   \n12                      Saundercock, Mr. William Henry    male  20.0      0   \n13                         Andersson, Mr. Anders Johan    male  39.0      1   \n14                Vestrom, Miss. Hulda Amanda Adolfina  female  14.0      0   \n15                    Hewlett, Mrs. (Mary D Kingcome)   female  55.0      0   \n16                                Rice, Master. Eugene    male   2.0      4   \n17                        Williams, Mr. Charles Eugene    male  28.0      0   \n18   Vander Planke, Mrs. Julius (Emelia Maria Vande...  female  31.0      1   \n19                             Masselmani, Mrs. Fatima  female  28.0      0   \n20                                Fynney, Mr. Joseph J    male  35.0      0   \n21                               Beesley, Mr. Lawrence    male  34.0      0   \n22                         McGowan, Miss. Anna \"Annie\"  female  15.0      0   \n23                        Sloper, Mr. William Thompson    male  28.0      0   \n24                       Palsson, Miss. Torborg Danira  female   8.0      3   \n25   Asplund, Mrs. Carl Oscar (Selma Augusta Emilia...  female  38.0      1   \n26                             Emir, Mr. Farred Chehab    male  28.0      0   \n27                      Fortune, Mr. Charles Alexander    male  19.0      3   \n28                       O'Dwyer, Miss. Ellen \"Nellie\"  female  28.0      0   \n29                                 Todoroff, Mr. Lalio    male  28.0      0   \n..                                                 ...     ...   ...    ...   \n861                        Giles, Mr. Frederick Edward    male  21.0      1   \n862  Swift, Mrs. Frederick Joel (Margaret Welles Ba...  female  48.0      0   \n863                  Sage, Miss. Dorothy Edith \"Dolly\"  female  28.0      8   \n864                             Gill, Mr. John William    male  24.0      0   \n865                           Bystrom, Mrs. (Karolina)  female  42.0      0   \n866                       Duran y More, Miss. Asuncion  female  27.0      1   \n867               Roebling, Mr. Washington Augustus II    male  31.0      0   \n868                        van Melkebeke, Mr. Philemon    male  28.0      0   \n869                    Johnson, Master. Harold Theodor    male   4.0      1   \n870                                  Balkic, Mr. Cerin    male  26.0      0   \n871   Beckwith, Mrs. Richard Leonard (Sallie Monypeny)  female  47.0      1   \n872                           Carlsson, Mr. Frans Olof    male  33.0      0   \n873                        Vander Cruyssen, Mr. Victor    male  47.0      0   \n874              Abelson, Mrs. Samuel (Hannah Wizosky)  female  28.0      1   \n875                   Najib, Miss. Adele Kiamie \"Jane\"  female  15.0      0   \n876                      Gustafsson, Mr. Alfred Ossian    male  20.0      0   \n877                               Petroff, Mr. Nedelio    male  19.0      0   \n878                                 Laleff, Mr. Kristo    male  28.0      0   \n879      Potter, Mrs. Thomas Jr (Lily Alexenia Wilson)  female  56.0      0   \n880       Shelley, Mrs. William (Imanita Parrish Hall)  female  25.0      0   \n881                                 Markun, Mr. Johann    male  33.0      0   \n882                       Dahlberg, Miss. Gerda Ulrika  female  22.0      0   \n883                      Banfield, Mr. Frederick James    male  28.0      0   \n884                             Sutehall, Mr. Henry Jr    male  25.0      0   \n885               Rice, Mrs. William (Margaret Norton)  female  39.0      0   \n886                              Montvila, Rev. Juozas    male  27.0      0   \n887                       Graham, Miss. Margaret Edith  female  19.0      0   \n888           Johnston, Miss. Catherine Helen \"Carrie\"  female  28.0      1   \n889                              Behr, Mr. Karl Howell    male  26.0      0   \n890                                Dooley, Mr. Patrick    male  32.0      0   \n\n     Parch            Ticket      Fare        Cabin Embarked  \n0        0         A/5 21171    7.2500          NaN        S  \n1        0          PC 17599   71.2833          C85        C  \n2        0  STON/O2. 3101282    7.9250          NaN        S  \n3        0            113803   53.1000         C123        S  \n4        0            373450    8.0500          NaN        S  \n5        0            330877    8.4583          NaN        Q  \n6        0             17463   51.8625          E46        S  \n7        1            349909   21.0750          NaN        S  \n8        2            347742   11.1333          NaN        S  \n9        0            237736   30.0708          NaN        C  \n10       1           PP 9549   16.7000           G6        S  \n11       0            113783   26.5500         C103        S  \n12       0         A/5. 2151    8.0500          NaN        S  \n13       5            347082   31.2750          NaN        S  \n14       0            350406    7.8542          NaN        S  \n15       0            248706   16.0000          NaN        S  \n16       1            382652   29.1250          NaN        Q  \n17       0            244373   13.0000          NaN        S  \n18       0            345763   18.0000          NaN        S  \n19       0              2649    7.2250          NaN        C  \n20       0            239865   26.0000          NaN        S  \n21       0            248698   13.0000          D56        S  \n22       0            330923    8.0292          NaN        Q  \n23       0            113788   35.5000           A6        S  \n24       1            349909   21.0750          NaN        S  \n25       5            347077   31.3875          NaN        S  \n26       0              2631    7.2250          NaN        C  \n27       2             19950  263.0000  C23 C25 C27        S  \n28       0            330959    7.8792          NaN        Q  \n29       0            349216    7.8958          NaN        S  \n..     ...               ...       ...          ...      ...  \n861      0             28134   11.5000          NaN        S  \n862      0             17466   25.9292          D17        S  \n863      2          CA. 2343   69.5500          NaN        S  \n864      0            233866   13.0000          NaN        S  \n865      0            236852   13.0000          NaN        S  \n866      0     SC/PARIS 2149   13.8583          NaN        C  \n867      0          PC 17590   50.4958          A24        S  \n868      0            345777    9.5000          NaN        S  \n869      1            347742   11.1333          NaN        S  \n870      0            349248    7.8958          NaN        S  \n871      1             11751   52.5542          D35        S  \n872      0               695    5.0000  B51 B53 B55        S  \n873      0            345765    9.0000          NaN        S  \n874      0         P/PP 3381   24.0000          NaN        C  \n875      0              2667    7.2250          NaN        C  \n876      0              7534    9.8458          NaN        S  \n877      0            349212    7.8958          NaN        S  \n878      0            349217    7.8958          NaN        S  \n879      1             11767   83.1583          C50        C  \n880      1            230433   26.0000          NaN        S  \n881      0            349257    7.8958          NaN        S  \n882      0              7552   10.5167          NaN        S  \n883      0  C.A./SOTON 34068   10.5000          NaN        S  \n884      0   SOTON/OQ 392076    7.0500          NaN        S  \n885      5            382652   29.1250          NaN        Q  \n886      0            211536   13.0000          NaN        S  \n887      0            112053   30.0000          B42        S  \n888      2        W./C. 6607   23.4500          NaN        S  \n889      0            111369   30.0000         C148        C  \n890      0            370376    7.7500          NaN        Q  \n\n[891 rows x 13 columns]"
          },
          "metadata": {}
        }
      ]
    },
    {
      "metadata": {},
      "cell_type": "markdown",
      "source": "### DataFrameオブジェクトは、データを集計することができます。\n### さらに、groupbyメソッドを使うと、ある特定の列を軸として集計することもできます。\n\n## 【設問8】\n### Sexを軸としてAgeの平均を求めてください。"
    },
    {
      "metadata": {
        "trusted": true
      },
      "cell_type": "code",
      "source": "df_titanic1 = pd.read_csv('titanic.csv', index_Age = 'Sex')\ndf_titanic1",
      "execution_count": 34,
      "outputs": [
        {
          "output_type": "error",
          "ename": "TypeError",
          "evalue": "parser_f() got an unexpected keyword argument 'index_Age'",
          "traceback": [
            "\u001b[0;31m---------------------------------------------------------------------------\u001b[0m",
            "\u001b[0;31mTypeError\u001b[0m                                 Traceback (most recent call last)",
            "\u001b[0;32m<ipython-input-34-71ce09ad843f>\u001b[0m in \u001b[0;36m<module>\u001b[0;34m\u001b[0m\n\u001b[0;32m----> 1\u001b[0;31m \u001b[0mdf_titanic1\u001b[0m \u001b[0;34m=\u001b[0m \u001b[0mpd\u001b[0m\u001b[0;34m.\u001b[0m\u001b[0mread_csv\u001b[0m\u001b[0;34m(\u001b[0m\u001b[0;34m'titanic.csv'\u001b[0m\u001b[0;34m,\u001b[0m \u001b[0mindex_Age\u001b[0m \u001b[0;34m=\u001b[0m \u001b[0;34m'Sex'\u001b[0m\u001b[0;34m)\u001b[0m\u001b[0;34m\u001b[0m\u001b[0m\n\u001b[0m\u001b[1;32m      2\u001b[0m \u001b[0mdf_titanic1\u001b[0m\u001b[0;34m\u001b[0m\u001b[0m\n",
            "\u001b[0;31mTypeError\u001b[0m: parser_f() got an unexpected keyword argument 'index_Age'"
          ]
        }
      ]
    },
    {
      "metadata": {},
      "cell_type": "markdown",
      "source": "### SeriesオブジェクトやDataFrameオブジェクトは、要素の値やインデックスを使ってソートすることができます。\n### インデックスでソートするとは、インデックスが昇順または降順となっていないときに、インデックスの昇順または降順に並べ替えることです。\n### 次のコードは、df_titanic1を年齢Ageの昇順に並べ替えます。"
    },
    {
      "metadata": {
        "trusted": true
      },
      "cell_type": "code",
      "source": "df_titanic1.Age.sort_values()",
      "execution_count": 27,
      "outputs": [
        {
          "output_type": "error",
          "ename": "NameError",
          "evalue": "name 'df_titanic1' is not defined",
          "traceback": [
            "\u001b[0;31m---------------------------------------------------------------------------\u001b[0m",
            "\u001b[0;31mNameError\u001b[0m                                 Traceback (most recent call last)",
            "\u001b[0;32m<ipython-input-27-d2df7369aff1>\u001b[0m in \u001b[0;36m<module>\u001b[0;34m\u001b[0m\n\u001b[0;32m----> 1\u001b[0;31m \u001b[0mdf_titanic1\u001b[0m\u001b[0;34m.\u001b[0m\u001b[0mAge\u001b[0m\u001b[0;34m.\u001b[0m\u001b[0msort_values\u001b[0m\u001b[0;34m(\u001b[0m\u001b[0;34m)\u001b[0m\u001b[0;34m\u001b[0m\u001b[0m\n\u001b[0m",
            "\u001b[0;31mNameError\u001b[0m: name 'df_titanic1' is not defined"
          ]
        }
      ]
    },
    {
      "metadata": {
        "trusted": true
      },
      "cell_type": "code",
      "source": "df_titanic1.Fare.sort_values()",
      "execution_count": 14,
      "outputs": [
        {
          "output_type": "error",
          "ename": "NameError",
          "evalue": "name 'df_titanic1' is not defined",
          "traceback": [
            "\u001b[0;31m---------------------------------------------------------------------------\u001b[0m",
            "\u001b[0;31mNameError\u001b[0m                                 Traceback (most recent call last)",
            "\u001b[0;32m<ipython-input-14-7f958487109d>\u001b[0m in \u001b[0;36m<module>\u001b[0;34m\u001b[0m\n\u001b[0;32m----> 1\u001b[0;31m \u001b[0mdf_titanic1\u001b[0m\u001b[0;34m.\u001b[0m\u001b[0mFare\u001b[0m\u001b[0;34m.\u001b[0m\u001b[0msort_values\u001b[0m\u001b[0;34m(\u001b[0m\u001b[0;34m)\u001b[0m\u001b[0;34m\u001b[0m\u001b[0m\n\u001b[0m",
            "\u001b[0;31mNameError\u001b[0m: name 'df_titanic1' is not defined"
          ]
        }
      ]
    },
    {
      "metadata": {},
      "cell_type": "markdown",
      "source": "## 【設問9】\n### DataFrameオブジェクトdf_titanic1においてクラス(Pclass)ごとの生存率を計算して、パーセントで表示してください。"
    },
    {
      "metadata": {
        "trusted": true
      },
      "cell_type": "code",
      "source": "",
      "execution_count": null,
      "outputs": []
    }
  ],
  "metadata": {
    "kernelspec": {
      "name": "python36",
      "display_name": "Python 3.6",
      "language": "python"
    },
    "language_info": {
      "mimetype": "text/x-python",
      "nbconvert_exporter": "python",
      "name": "python",
      "pygments_lexer": "ipython3",
      "version": "3.6.6",
      "file_extension": ".py",
      "codemirror_mode": {
        "version": 3,
        "name": "ipython"
      }
    }
  },
  "nbformat": 4,
  "nbformat_minor": 2
}